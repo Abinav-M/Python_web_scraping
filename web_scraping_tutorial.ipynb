{
  "nbformat": 4,
  "nbformat_minor": 0,
  "metadata": {
    "colab": {
      "name": "web-scraping-tutorial.ipynb",
      "provenance": [],
      "collapsed_sections": [],
      "toc_visible": true,
      "authorship_tag": "ABX9TyPnxoca9n24fT0iKcW2O7Bd",
      "include_colab_link": true
    },
    "kernelspec": {
      "name": "python3",
      "display_name": "Python 3"
    }
  },
  "cells": [
    {
      "cell_type": "markdown",
      "metadata": {
        "id": "view-in-github",
        "colab_type": "text"
      },
      "source": [
        "<a href=\"https://colab.research.google.com/github/Abinav-M/Python_web_scraping/blob/master/web_scraping_tutorial.ipynb\" target=\"_parent\"><img src=\"https://colab.research.google.com/assets/colab-badge.svg\" alt=\"Open In Colab\"/></a>"
      ]
    },
    {
      "cell_type": "markdown",
      "metadata": {
        "id": "e2daifvshBLS",
        "colab_type": "text"
      },
      "source": [
        "##Loading in the necessary libraries"
      ]
    },
    {
      "cell_type": "code",
      "metadata": {
        "id": "Wa2EiMV2hWRw",
        "colab_type": "code",
        "colab": {}
      },
      "source": [
        "import requests\n",
        "!pip install -q BeautifulSoup4\n",
        "from bs4 import BeautifulSoup as bs\n",
        "\n",
        "import re"
      ],
      "execution_count": null,
      "outputs": []
    },
    {
      "cell_type": "markdown",
      "metadata": {
        "id": "OvuOkp5Bhp0l",
        "colab_type": "text"
      },
      "source": [
        "##Load our first page"
      ]
    },
    {
      "cell_type": "code",
      "metadata": {
        "id": "ZyIwYTb5h1LI",
        "colab_type": "code",
        "colab": {
          "base_uri": "https://localhost:8080/",
          "height": 646
        },
        "outputId": "18a6a30d-d986-4991-e015-022df1791e6e"
      },
      "source": [
        "#Load the webpage content\n",
        "\n",
        "r=requests.get(\"https://keithgalli.github.io/web-scraping/example.html\")\n",
        "\n",
        "#convert to beautifulsoup object\n",
        "soup = bs(r.content)\n",
        "\n",
        "#print out our html\n",
        "\n",
        "print(soup.prettify())"
      ],
      "execution_count": null,
      "outputs": [
        {
          "output_type": "stream",
          "text": [
            "<html>\n",
            " <head>\n",
            "  <title>\n",
            "   HTML Example\n",
            "  </title>\n",
            " </head>\n",
            " <body>\n",
            "  <div align=\"middle\">\n",
            "   <h1>\n",
            "    HTML Webpage\n",
            "   </h1>\n",
            "   <p>\n",
            "    Link to more interesting example:\n",
            "    <a href=\"https://keithgalli.github.io/web-scraping/webpage.html\">\n",
            "     keithgalli.github.io/web-scraping/webpage.html\n",
            "    </a>\n",
            "   </p>\n",
            "  </div>\n",
            "  <h2>\n",
            "   A Header\n",
            "  </h2>\n",
            "  <p>\n",
            "   <i>\n",
            "    Some italicized text\n",
            "   </i>\n",
            "  </p>\n",
            "  <h2>\n",
            "   Another header\n",
            "  </h2>\n",
            "  <p id=\"paragraph-id\">\n",
            "   <b>\n",
            "    Some bold text\n",
            "   </b>\n",
            "  </p>\n",
            " </body>\n",
            "</html>\n",
            "\n"
          ],
          "name": "stdout"
        }
      ]
    },
    {
      "cell_type": "markdown",
      "metadata": {
        "id": "2u0M9x_YjMVw",
        "colab_type": "text"
      },
      "source": [
        "##Start to scrape using beautiful soup library"
      ]
    },
    {
      "cell_type": "markdown",
      "metadata": {
        "id": "4XOOr0iojZV3",
        "colab_type": "text"
      },
      "source": [
        "###find and find_all\n"
      ]
    },
    {
      "cell_type": "code",
      "metadata": {
        "id": "GhQG8ADOnCFV",
        "colab_type": "code",
        "colab": {
          "base_uri": "https://localhost:8080/",
          "height": 34
        },
        "outputId": "13f60cd6-f282-491f-837d-4e9e659c34ea"
      },
      "source": [
        "first_header= soup.find(\"h2\")\n",
        "headers= soup.find_all(\"h2\")\n",
        "headers"
      ],
      "execution_count": null,
      "outputs": [
        {
          "output_type": "execute_result",
          "data": {
            "text/plain": [
              "[<h2>A Header</h2>, <h2>Another header</h2>]"
            ]
          },
          "metadata": {
            "tags": []
          },
          "execution_count": 3
        }
      ]
    },
    {
      "cell_type": "code",
      "metadata": {
        "id": "IEy8d9xpnEnz",
        "colab_type": "code",
        "colab": {
          "base_uri": "https://localhost:8080/",
          "height": 34
        },
        "outputId": "90d1fdb2-7816-4e9a-9fc6-6b12f8b5f9a8"
      },
      "source": [
        "#pass in a list of elements to look for\n",
        "first_header = soup.find([\"h1\",\"h2\"])  #order doesnt matter, first one is printed\n",
        "headers= soup.find_all([\"h1\", \"h2\"])\n",
        "headers"
      ],
      "execution_count": null,
      "outputs": [
        {
          "output_type": "execute_result",
          "data": {
            "text/plain": [
              "[<h1>HTML Webpage</h1>, <h2>A Header</h2>, <h2>Another header</h2>]"
            ]
          },
          "metadata": {
            "tags": []
          },
          "execution_count": 4
        }
      ]
    },
    {
      "cell_type": "code",
      "metadata": {
        "id": "1JvGW3J2nuqr",
        "colab_type": "code",
        "colab": {
          "base_uri": "https://localhost:8080/",
          "height": 34
        },
        "outputId": "babc68a1-1646-4555-fe61-71fd2ba52e0b"
      },
      "source": [
        "# pass attributes to find/find_all function\n",
        "paragraph = soup.find_all(\"p\", attrs={\"id\": \"paragraph-id\"})\n",
        "paragraph"
      ],
      "execution_count": null,
      "outputs": [
        {
          "output_type": "execute_result",
          "data": {
            "text/plain": [
              "[<p id=\"paragraph-id\"><b>Some bold text</b></p>]"
            ]
          },
          "metadata": {
            "tags": []
          },
          "execution_count": 5
        }
      ]
    },
    {
      "cell_type": "code",
      "metadata": {
        "id": "gojGTWgqoYgk",
        "colab_type": "code",
        "colab": {
          "base_uri": "https://localhost:8080/",
          "height": 34
        },
        "outputId": "345861a6-575a-486c-cad9-27d7c35d2ae2"
      },
      "source": [
        "# nest find and find_all \n",
        "body = soup.find(\"body\")\n",
        "div= body.find(\"div\")\n",
        "header= div.find(\"h1\")\n",
        "header"
      ],
      "execution_count": null,
      "outputs": [
        {
          "output_type": "execute_result",
          "data": {
            "text/plain": [
              "<h1>HTML Webpage</h1>"
            ]
          },
          "metadata": {
            "tags": []
          },
          "execution_count": 6
        }
      ]
    },
    {
      "cell_type": "code",
      "metadata": {
        "id": "U68yz1g2takN",
        "colab_type": "code",
        "colab": {
          "base_uri": "https://localhost:8080/",
          "height": 34
        },
        "outputId": "3c1fdb0a-0b9a-4299-abd8-466465037bd6"
      },
      "source": [
        "# search for specific strings in find/ find_all\n",
        "import re\n",
        "paragraphs=soup.find_all(\"p\", string=re.compile(\"Some\"))\n",
        "\n",
        "headers= soup.find_all(\"h2\", string=re.compile(\"(H|h)eader\"))\n",
        "headers"
      ],
      "execution_count": null,
      "outputs": [
        {
          "output_type": "execute_result",
          "data": {
            "text/plain": [
              "[<h2>A Header</h2>, <h2>Another header</h2>]"
            ]
          },
          "metadata": {
            "tags": []
          },
          "execution_count": 7
        }
      ]
    },
    {
      "cell_type": "markdown",
      "metadata": {
        "id": "Nbmu9Gh7uJMk",
        "colab_type": "text"
      },
      "source": [
        "### select (css selector)"
      ]
    },
    {
      "cell_type": "code",
      "metadata": {
        "id": "GozHxIwXzLbk",
        "colab_type": "code",
        "colab": {
          "base_uri": "https://localhost:8080/",
          "height": 88
        },
        "outputId": "43b7fe02-444b-4143-b58b-7f908e63bd4f"
      },
      "source": [
        "content = soup.select(\"p\")\n",
        "content"
      ],
      "execution_count": null,
      "outputs": [
        {
          "output_type": "execute_result",
          "data": {
            "text/plain": [
              "[<p>Link to more interesting example: <a href=\"https://keithgalli.github.io/web-scraping/webpage.html\">keithgalli.github.io/web-scraping/webpage.html</a></p>,\n",
              " <p><i>Some italicized text</i></p>,\n",
              " <p id=\"paragraph-id\"><b>Some bold text</b></p>]"
            ]
          },
          "metadata": {
            "tags": []
          },
          "execution_count": 8
        }
      ]
    },
    {
      "cell_type": "markdown",
      "metadata": {
        "id": "0nOcefaIvRI-",
        "colab_type": "text"
      },
      "source": [
        "##Exercises\n"
      ]
    },
    {
      "cell_type": "markdown",
      "metadata": {
        "id": "0cawptHKUHKj",
        "colab_type": "text"
      },
      "source": [
        "Go to https://keithgalli.github.io/web-scraping/webpage.html"
      ]
    },
    {
      "cell_type": "code",
      "metadata": {
        "id": "MJ4shRqPUcuy",
        "colab_type": "code",
        "colab": {
          "base_uri": "https://localhost:8080/",
          "height": 1000
        },
        "outputId": "02646827-8ed3-4adb-fdcd-ef6985674399"
      },
      "source": [
        "#Load the webpage\n",
        "url=\"https://keithgalli.github.io/web-scraping/\"\n",
        "r = requests.get(url+\"webpage.html\")\n",
        "webpage = bs(r.content)\n",
        "print(webpage.prettify())"
      ],
      "execution_count": null,
      "outputs": [
        {
          "output_type": "stream",
          "text": [
            "<html>\n",
            " <head>\n",
            "  <title>\n",
            "   Keith Galli's Page\n",
            "  </title>\n",
            "  <style>\n",
            "   table {\n",
            "    border-collapse: collapse;\n",
            "  }\n",
            "  th {\n",
            "    padding:5px;\n",
            "  }\n",
            "  td {\n",
            "    border: 1px solid #ddd;\n",
            "    padding: 5px;\n",
            "  }\n",
            "  tr:nth-child(even) {\n",
            "    background-color: #f2f2f2;\n",
            "  }\n",
            "  th {\n",
            "    padding-top: 12px;\n",
            "    padding-bottom: 12px;\n",
            "    text-align: left;\n",
            "    background-color: #add8e6;\n",
            "    color: black;\n",
            "  }\n",
            "  .block {\n",
            "  width: 100px;\n",
            "  /*float: left;*/\n",
            "    display: inline-block;\n",
            "    zoom: 1;\n",
            "  }\n",
            "  .column {\n",
            "  float: left;\n",
            "  height: 200px;\n",
            "  /*width: 33.33%;*/\n",
            "  padding: 5px;\n",
            "  }\n",
            "\n",
            "  .row::after {\n",
            "    content: \"\";\n",
            "    clear: both;\n",
            "    display: table;\n",
            "  }\n",
            "  </style>\n",
            " </head>\n",
            " <body>\n",
            "  <h1>\n",
            "   Welcome to my page!\n",
            "  </h1>\n",
            "  <img src=\"./images/selfie1.jpg\" width=\"300px\"/>\n",
            "  <h2>\n",
            "   About me\n",
            "  </h2>\n",
            "  <p>\n",
            "   Hi, my name is Keith and I am a YouTuber who focuses on content related to programming, data science, and machine learning!\n",
            "  </p>\n",
            "  <p>\n",
            "   Here is a link to my channel:\n",
            "   <a href=\"https://www.youtube.com/kgmit\">\n",
            "    youtube.com/kgmit\n",
            "   </a>\n",
            "  </p>\n",
            "  <p>\n",
            "   I grew up in the great state of New Hampshire here in the USA. From an early age I always loved math. Around my senior year of high school, my brother first introduced me to programming. I found it a creative way to apply the same type of logical thinking skills that I enjoyed with math. This influenced me to study computer science in college and ultimately create a YouTube channel to share some things that I have learned along the way.\n",
            "  </p>\n",
            "  <h3>\n",
            "   Hobbies\n",
            "  </h3>\n",
            "  <p>\n",
            "   Believe it or not, I don't code 24/7. I love doing all sorts of active things. I like to play ice hockey &amp; table tennis as well as run, hike, skateboard, and snowboard. In addition to sports, I am a board game enthusiast. The two that I've been playing the most recently are\n",
            "   <i>\n",
            "    Settlers of Catan\n",
            "   </i>\n",
            "   and\n",
            "   <i>\n",
            "    Othello\n",
            "   </i>\n",
            "   .\n",
            "  </p>\n",
            "  <h3>\n",
            "   Fun Facts\n",
            "  </h3>\n",
            "  <ul class=\"fun-facts\">\n",
            "   <li>\n",
            "    Owned my dream car in high school\n",
            "    <a href=\"#footer\">\n",
            "     <sup>\n",
            "      1\n",
            "     </sup>\n",
            "    </a>\n",
            "   </li>\n",
            "   <li>\n",
            "    Middle name is Ronald\n",
            "   </li>\n",
            "   <li>\n",
            "    Never had been on a plane until college\n",
            "   </li>\n",
            "   <li>\n",
            "    Dunkin Donuts coffee is better than Starbucks\n",
            "   </li>\n",
            "   <li>\n",
            "    A favorite book series of mine is\n",
            "    <i>\n",
            "     Ender's Game\n",
            "    </i>\n",
            "   </li>\n",
            "   <li>\n",
            "    Current video game of choice is\n",
            "    <i>\n",
            "     Rocket League\n",
            "    </i>\n",
            "   </li>\n",
            "   <li>\n",
            "    The band that I've seen the most times live is the\n",
            "    <i>\n",
            "     Zac Brown Band\n",
            "    </i>\n",
            "   </li>\n",
            "  </ul>\n",
            "  <h2>\n",
            "   Social Media\n",
            "  </h2>\n",
            "  I encourage you to check out my content on all social media platforms\n",
            "  <br/>\n",
            "  <ul class=\"socials\">\n",
            "   <li class=\"social instagram\">\n",
            "    <b>\n",
            "     Instagram:\n",
            "    </b>\n",
            "    <a href=\"https://www.instagram.com/keithgalli/\">\n",
            "     https://www.instagram.com/keithgalli/\n",
            "    </a>\n",
            "   </li>\n",
            "   <li class=\"social twitter\">\n",
            "    <b>\n",
            "     Twitter:\n",
            "    </b>\n",
            "    <a href=\"https://twitter.com/keithgalli\">\n",
            "     https://twitter.com/keithgalli\n",
            "    </a>\n",
            "   </li>\n",
            "   <li class=\"social linkedin\">\n",
            "    <b>\n",
            "     LinkedIn:\n",
            "    </b>\n",
            "    <a href=\"https://www.linkedin.com/in/keithgalli/\">\n",
            "     https://www.linkedin.com/in/keithgalli/\n",
            "    </a>\n",
            "   </li>\n",
            "   <li class=\"social tiktok\">\n",
            "    <b>\n",
            "     TikTok:\n",
            "    </b>\n",
            "    <a href=\"https://www.tiktok.com/@keithgalli\">\n",
            "     https://www.tiktok.com/@keithgalli\n",
            "    </a>\n",
            "   </li>\n",
            "  </ul>\n",
            "  <h2>\n",
            "   Photos\n",
            "  </h2>\n",
            "  Here are a few photos from a trip to italy I took last year\n",
            "  <div class=\"row\">\n",
            "   <div class=\"column\">\n",
            "    <img alt=\"Lake Como\" src=\"images/italy/lake_como.jpg\" style=\"height:100%\"/>\n",
            "   </div>\n",
            "   <div class=\"column\">\n",
            "    <img alt=\"Pontevecchio, Florence\" src=\"images/italy/pontevecchio.jpg\" style=\"height:100%\"/>\n",
            "   </div>\n",
            "   <div class=\"column\">\n",
            "    <img alt=\"Riomaggiore, Cinque de Terre\" src=\"images/italy/riomaggiore.jpg\" style=\"height:100%\"/>\n",
            "   </div>\n",
            "  </div>\n",
            "  <div>\n",
            "  </div>\n",
            "  <h2>\n",
            "   Table\n",
            "  </h2>\n",
            "  My MIT hockey stats :)\n",
            "  <br/>\n",
            "  <table class=\"hockey-stats\">\n",
            "   <thead>\n",
            "    <tr>\n",
            "     <th class=\"season\" data-sort=\"\">\n",
            "      S\n",
            "     </th>\n",
            "     <th class=\"team\" data-sort=\"team\">\n",
            "      Team\n",
            "     </th>\n",
            "     <th class=\"league\" data-sort=\"league\">\n",
            "      League\n",
            "     </th>\n",
            "     <th class=\"regular gp\" data-sort=\"gp\">\n",
            "      GP\n",
            "     </th>\n",
            "     <th class=\"regular g\" data-sort=\"g\">\n",
            "      G\n",
            "     </th>\n",
            "     <th class=\"regular a\" data-sort=\"a\">\n",
            "      A\n",
            "     </th>\n",
            "     <th class=\"regular tp\" data-sort=\"tp\">\n",
            "      TP\n",
            "     </th>\n",
            "     <th class=\"regular pim\" data-sort=\"pim\">\n",
            "      PIM\n",
            "     </th>\n",
            "     <th class=\"regular pm\" data-sort=\"pm\">\n",
            "      +/-\n",
            "     </th>\n",
            "     <th class=\"separator\">\n",
            "     </th>\n",
            "     <th class=\"postseason\">\n",
            "      POST\n",
            "     </th>\n",
            "     <th class=\"postseason gp\" data-sort=\"playoffs-gp\">\n",
            "      GP\n",
            "     </th>\n",
            "     <th class=\"postseason g\" data-sort=\"playoffs-g\">\n",
            "      G\n",
            "     </th>\n",
            "     <th class=\"postseason a\" data-sort=\"playoffs-a\">\n",
            "      A\n",
            "     </th>\n",
            "     <th class=\"postseason tp\" data-sort=\"playoffs-tp\">\n",
            "      TP\n",
            "     </th>\n",
            "     <th class=\"postseason pim\" data-sort=\"playoffs-pim\">\n",
            "      PIM\n",
            "     </th>\n",
            "     <th class=\"postseason pm\" data-sort=\"playoffs-pm\">\n",
            "      +/-\n",
            "     </th>\n",
            "    </tr>\n",
            "   </thead>\n",
            "   <tbody>\n",
            "    <tr class=\"team-continent-NA \">\n",
            "     <td class=\"season sorted\">\n",
            "      2014-15\n",
            "     </td>\n",
            "     <td class=\"team\">\n",
            "      <i>\n",
            "       <img src=\"images/flag.png\"/>\n",
            "      </i>\n",
            "      <span class=\"txt-blue\">\n",
            "       <a href=\"https://www.eliteprospects.com/team/10263/mit-mass.-inst.-of-tech./2014-2015?tab=stats\">\n",
            "        MIT (Mass. Inst. of Tech.)\n",
            "       </a>\n",
            "      </span>\n",
            "     </td>\n",
            "     <td class=\"league\">\n",
            "      <a href=\"https://www.eliteprospects.com/league/acha-ii/stats/2014-2015\">\n",
            "       ACHA II\n",
            "      </a>\n",
            "     </td>\n",
            "     <td class=\"regular gp\">\n",
            "      17\n",
            "     </td>\n",
            "     <td class=\"regular g\">\n",
            "      3\n",
            "     </td>\n",
            "     <td class=\"regular a\">\n",
            "      9\n",
            "     </td>\n",
            "     <td class=\"regular tp\">\n",
            "      12\n",
            "     </td>\n",
            "     <td class=\"regular pim\">\n",
            "      20\n",
            "     </td>\n",
            "     <td class=\"regular pm\">\n",
            "     </td>\n",
            "     <td class=\"separator\">\n",
            "      |\n",
            "     </td>\n",
            "     <td class=\"postseason\">\n",
            "      <a href=\"https://www.eliteprospects.com/league/acha-ii/stats/2014-2015\">\n",
            "      </a>\n",
            "     </td>\n",
            "     <td class=\"postseason gp\">\n",
            "     </td>\n",
            "     <td class=\"postseason g\">\n",
            "     </td>\n",
            "     <td class=\"postseason a\">\n",
            "     </td>\n",
            "     <td class=\"postseason tp\">\n",
            "     </td>\n",
            "     <td class=\"postseason pim\">\n",
            "     </td>\n",
            "     <td class=\"postseason pm\">\n",
            "     </td>\n",
            "    </tr>\n",
            "    <tr class=\"team-continent-NA \">\n",
            "     <td class=\"season sorted\">\n",
            "      2015-16\n",
            "     </td>\n",
            "     <td class=\"team\">\n",
            "      <i>\n",
            "       <img src=\"images/flag.png\"/>\n",
            "      </i>\n",
            "      <span class=\"txt-blue\">\n",
            "       <a href=\"https://www.eliteprospects.com/team/10263/mit-mass.-inst.-of-tech./2015-2016?tab=stats\">\n",
            "        MIT (Mass. Inst. of Tech.)\n",
            "       </a>\n",
            "      </span>\n",
            "     </td>\n",
            "     <td class=\"league\">\n",
            "      <a href=\"https://www.eliteprospects.com/league/acha-ii/stats/2015-2016\">\n",
            "       ACHA II\n",
            "      </a>\n",
            "     </td>\n",
            "     <td class=\"regular gp\">\n",
            "      9\n",
            "     </td>\n",
            "     <td class=\"regular g\">\n",
            "      1\n",
            "     </td>\n",
            "     <td class=\"regular a\">\n",
            "      1\n",
            "     </td>\n",
            "     <td class=\"regular tp\">\n",
            "      2\n",
            "     </td>\n",
            "     <td class=\"regular pim\">\n",
            "      2\n",
            "     </td>\n",
            "     <td class=\"regular pm\">\n",
            "     </td>\n",
            "     <td class=\"separator\">\n",
            "      |\n",
            "     </td>\n",
            "     <td class=\"postseason\">\n",
            "      <a href=\"https://www.eliteprospects.com/league/acha-ii/stats/2015-2016\">\n",
            "      </a>\n",
            "     </td>\n",
            "     <td class=\"postseason gp\">\n",
            "     </td>\n",
            "     <td class=\"postseason g\">\n",
            "     </td>\n",
            "     <td class=\"postseason a\">\n",
            "     </td>\n",
            "     <td class=\"postseason tp\">\n",
            "     </td>\n",
            "     <td class=\"postseason pim\">\n",
            "     </td>\n",
            "     <td class=\"postseason pm\">\n",
            "     </td>\n",
            "    </tr>\n",
            "    <tr class=\"team-continent-NA \">\n",
            "     <td class=\"season sorted\">\n",
            "      2016-17\n",
            "     </td>\n",
            "     <td class=\"team\">\n",
            "      <i>\n",
            "       <img src=\"images/flag.png\"/>\n",
            "      </i>\n",
            "      <span class=\"txt-blue\">\n",
            "       <a href=\"https://www.eliteprospects.com/team/10263/mit-mass.-inst.-of-tech./2016-2017?tab=stats\">\n",
            "        MIT (Mass. Inst. of Tech.)\n",
            "       </a>\n",
            "      </span>\n",
            "     </td>\n",
            "     <td class=\"league\">\n",
            "      <a href=\"https://www.eliteprospects.com/league/acha-ii/stats/2016-2017\">\n",
            "       ACHA II\n",
            "      </a>\n",
            "     </td>\n",
            "     <td class=\"regular gp\">\n",
            "      12\n",
            "     </td>\n",
            "     <td class=\"regular g\">\n",
            "      5\n",
            "     </td>\n",
            "     <td class=\"regular a\">\n",
            "      5\n",
            "     </td>\n",
            "     <td class=\"regular tp\">\n",
            "      10\n",
            "     </td>\n",
            "     <td class=\"regular pim\">\n",
            "      8\n",
            "     </td>\n",
            "     <td class=\"regular pm\">\n",
            "      0\n",
            "     </td>\n",
            "     <td class=\"separator\">\n",
            "      |\n",
            "     </td>\n",
            "     <td class=\"postseason\">\n",
            "     </td>\n",
            "     <td class=\"postseason gp\">\n",
            "     </td>\n",
            "     <td class=\"postseason g\">\n",
            "     </td>\n",
            "     <td class=\"postseason a\">\n",
            "     </td>\n",
            "     <td class=\"postseason tp\">\n",
            "     </td>\n",
            "     <td class=\"postseason pim\">\n",
            "     </td>\n",
            "     <td class=\"postseason pm\">\n",
            "     </td>\n",
            "    </tr>\n",
            "    <tr class=\"team-continent-EU \">\n",
            "     <td class=\"season sorted\">\n",
            "      2017-18\n",
            "     </td>\n",
            "     <td class=\"team\">\n",
            "      Did not play\n",
            "     </td>\n",
            "     <td class=\"league\">\n",
            "      <a href=\"https://www.eliteprospects.com/stats\">\n",
            "      </a>\n",
            "     </td>\n",
            "     <td class=\"regular gp\">\n",
            "     </td>\n",
            "     <td class=\"regular g\">\n",
            "     </td>\n",
            "     <td class=\"regular a\">\n",
            "     </td>\n",
            "     <td class=\"regular tp\">\n",
            "     </td>\n",
            "     <td class=\"regular pim\">\n",
            "     </td>\n",
            "     <td class=\"regular pm\">\n",
            "     </td>\n",
            "     <td class=\"separator\">\n",
            "      |\n",
            "     </td>\n",
            "     <td class=\"postseason\">\n",
            "      <a href=\"https://www.eliteprospects.com/stats\">\n",
            "      </a>\n",
            "     </td>\n",
            "     <td class=\"postseason gp\">\n",
            "     </td>\n",
            "     <td class=\"postseason g\">\n",
            "     </td>\n",
            "     <td class=\"postseason a\">\n",
            "     </td>\n",
            "     <td class=\"postseason tp\">\n",
            "     </td>\n",
            "     <td class=\"postseason pim\">\n",
            "     </td>\n",
            "     <td class=\"postseason pm\">\n",
            "     </td>\n",
            "    </tr>\n",
            "    <tr class=\"team-continent-NA \">\n",
            "     <td class=\"season sorted\">\n",
            "      2018-19\n",
            "     </td>\n",
            "     <td class=\"team\">\n",
            "      <i>\n",
            "       <img src=\"images/flag.png\"/>\n",
            "      </i>\n",
            "      <span class=\"txt-blue\">\n",
            "       <a href=\"https://www.eliteprospects.com/team/10263/mit-mass.-inst.-of-tech./2018-2019?tab=stats\">\n",
            "        MIT (Mass. Inst. of Tech.)\n",
            "       </a>\n",
            "      </span>\n",
            "     </td>\n",
            "     <td class=\"league\">\n",
            "      <a href=\"https://www.eliteprospects.com/league/acha-iii/stats/2018-2019\">\n",
            "       ACHA III\n",
            "      </a>\n",
            "     </td>\n",
            "     <td class=\"regular gp\">\n",
            "      8\n",
            "     </td>\n",
            "     <td class=\"regular g\">\n",
            "      5\n",
            "     </td>\n",
            "     <td class=\"regular a\">\n",
            "      10\n",
            "     </td>\n",
            "     <td class=\"regular tp\">\n",
            "      15\n",
            "     </td>\n",
            "     <td class=\"regular pim\">\n",
            "      8\n",
            "     </td>\n",
            "     <td class=\"regular pm\">\n",
            "     </td>\n",
            "     <td class=\"separator\">\n",
            "      |\n",
            "     </td>\n",
            "     <td class=\"postseason\">\n",
            "      <a href=\"https://www.eliteprospects.com/league/acha-iii/stats/2018-2019\">\n",
            "      </a>\n",
            "     </td>\n",
            "     <td class=\"postseason gp\">\n",
            "     </td>\n",
            "     <td class=\"postseason g\">\n",
            "     </td>\n",
            "     <td class=\"postseason a\">\n",
            "     </td>\n",
            "     <td class=\"postseason tp\">\n",
            "     </td>\n",
            "     <td class=\"postseason pim\">\n",
            "     </td>\n",
            "     <td class=\"postseason pm\">\n",
            "     </td>\n",
            "    </tr>\n",
            "   </tbody>\n",
            "  </table>\n",
            "  <h2>\n",
            "   Mystery Message Challenge!\n",
            "  </h2>\n",
            "  <p>\n",
            "   If you scrape the links below grabbing the &lt;p&gt; tag with id=\"secret-word\", you'll discover a secret message :)\n",
            "  </p>\n",
            "  <div width=\"50%\">\n",
            "   <div align=\"left\" class=\"block\">\n",
            "    <ul>\n",
            "     <li>\n",
            "      <a href=\"challenge/file_1.html\">\n",
            "       File 1\n",
            "      </a>\n",
            "     </li>\n",
            "     <li>\n",
            "      <a href=\"challenge/file_2.html\">\n",
            "       File 2\n",
            "      </a>\n",
            "     </li>\n",
            "     <li>\n",
            "      <a href=\"challenge/file_3.html\">\n",
            "       File 3\n",
            "      </a>\n",
            "     </li>\n",
            "     <li>\n",
            "      <a href=\"challenge/file_4.html\">\n",
            "       File 4\n",
            "      </a>\n",
            "     </li>\n",
            "     <li>\n",
            "      <a href=\"challenge/file_5.html\">\n",
            "       File 5\n",
            "      </a>\n",
            "     </li>\n",
            "    </ul>\n",
            "   </div>\n",
            "   <div align=\"center\" class=\"block\">\n",
            "    <ul>\n",
            "     <li>\n",
            "      <a href=\"challenge/file_6.html\">\n",
            "       File 6\n",
            "      </a>\n",
            "     </li>\n",
            "     <li>\n",
            "      <a href=\"challenge/file_7.html\">\n",
            "       File 7\n",
            "      </a>\n",
            "     </li>\n",
            "     <li>\n",
            "      <a href=\"challenge/file_8.html\">\n",
            "       File 8\n",
            "      </a>\n",
            "     </li>\n",
            "     <li>\n",
            "      <a href=\"challenge/file_9.html\">\n",
            "       File 9\n",
            "      </a>\n",
            "     </li>\n",
            "     <li>\n",
            "      <a href=\"challenge/file_10.html\">\n",
            "       File 10\n",
            "      </a>\n",
            "     </li>\n",
            "    </ul>\n",
            "   </div>\n",
            "  </div>\n",
            "  <h2>\n",
            "   Footnotes\n",
            "  </h2>\n",
            "  <p id=\"footer\">\n",
            "   1. This was actually a minivan that I named Debora. Maybe not my dream car, but I loved her nonetheless.\n",
            "  </p>\n",
            " </body>\n",
            "</html>\n"
          ],
          "name": "stdout"
        }
      ]
    },
    {
      "cell_type": "markdown",
      "metadata": {
        "id": "-sxd8WknU6yh",
        "colab_type": "text"
      },
      "source": [
        "##Grab all social media links from the webpage\n",
        "\n",
        "do it in atleast three different ways "
      ]
    },
    {
      "cell_type": "code",
      "metadata": {
        "id": "FgPGodvBaZTE",
        "colab_type": "code",
        "colab": {
          "base_uri": "https://localhost:8080/",
          "height": 479
        },
        "outputId": "3915e4ab-1c64-4d29-9ed5-67e9e77df256"
      },
      "source": [
        "unordered_list_items=webpage.select(\"ul\")\n",
        "unordered_list_items"
      ],
      "execution_count": null,
      "outputs": [
        {
          "output_type": "execute_result",
          "data": {
            "text/plain": [
              "[<ul class=\"fun-facts\">\n",
              " <li>Owned my dream car in high school <a href=\"#footer\"><sup>1</sup></a></li>\n",
              " <li>Middle name is Ronald</li>\n",
              " <li>Never had been on a plane until college</li>\n",
              " <li>Dunkin Donuts coffee is better than Starbucks</li>\n",
              " <li>A favorite book series of mine is <i>Ender's Game</i></li>\n",
              " <li>Current video game of choice is <i>Rocket League</i></li>\n",
              " <li>The band that I've seen the most times live is the <i>Zac Brown Band</i></li>\n",
              " </ul>, <ul class=\"socials\">\n",
              " <li class=\"social instagram\"><b>Instagram: </b><a href=\"https://www.instagram.com/keithgalli/\">https://www.instagram.com/keithgalli/</a></li>\n",
              " <li class=\"social twitter\"><b>Twitter: </b><a href=\"https://twitter.com/keithgalli\">https://twitter.com/keithgalli</a></li>\n",
              " <li class=\"social linkedin\"><b>LinkedIn: </b><a href=\"https://www.linkedin.com/in/keithgalli/\">https://www.linkedin.com/in/keithgalli/</a></li>\n",
              " <li class=\"social tiktok\"><b>TikTok: </b><a href=\"https://www.tiktok.com/@keithgalli\">https://www.tiktok.com/@keithgalli</a></li>\n",
              " </ul>, <ul>\n",
              " <li><a href=\"challenge/file_1.html\">File 1</a></li>\n",
              " <li><a href=\"challenge/file_2.html\">File 2</a></li>\n",
              " <li><a href=\"challenge/file_3.html\">File 3</a></li>\n",
              " <li><a href=\"challenge/file_4.html\">File 4</a></li>\n",
              " <li><a href=\"challenge/file_5.html\">File 5</a></li>\n",
              " </ul>, <ul>\n",
              " <li><a href=\"challenge/file_6.html\">File 6</a></li>\n",
              " <li><a href=\"challenge/file_7.html\">File 7</a></li>\n",
              " <li><a href=\"challenge/file_8.html\">File 8</a></li>\n",
              " <li><a href=\"challenge/file_9.html\">File 9</a></li>\n",
              " <li><a href=\"challenge/file_10.html\">File 10</a></li>\n",
              " </ul>]"
            ]
          },
          "metadata": {
            "tags": []
          },
          "execution_count": 10
        }
      ]
    },
    {
      "cell_type": "markdown",
      "metadata": {
        "id": "J3c_ANthsNeG",
        "colab_type": "text"
      },
      "source": [
        "####Method 1 : using .stripped_strings"
      ]
    },
    {
      "cell_type": "code",
      "metadata": {
        "id": "sBKyxozHd4ax",
        "colab_type": "code",
        "colab": {
          "base_uri": "https://localhost:8080/",
          "height": 153
        },
        "outputId": "f3e0dd83-866f-41bd-ada9-bbbf9dfaa4e6"
      },
      "source": [
        "socialacc=[socialaccounts for socialaccounts in unordered_list_items[1].stripped_strings]\n",
        "socialacc"
      ],
      "execution_count": null,
      "outputs": [
        {
          "output_type": "execute_result",
          "data": {
            "text/plain": [
              "['Instagram:',\n",
              " 'https://www.instagram.com/keithgalli/',\n",
              " 'Twitter:',\n",
              " 'https://twitter.com/keithgalli',\n",
              " 'LinkedIn:',\n",
              " 'https://www.linkedin.com/in/keithgalli/',\n",
              " 'TikTok:',\n",
              " 'https://www.tiktok.com/@keithgalli']"
            ]
          },
          "metadata": {
            "tags": []
          },
          "execution_count": 11
        }
      ]
    },
    {
      "cell_type": "markdown",
      "metadata": {
        "id": "EWdyqOeFiHc_",
        "colab_type": "text"
      },
      "source": [
        "####Method 2 : using find/findall"
      ]
    },
    {
      "cell_type": "code",
      "metadata": {
        "id": "WB3gNbYyVYCF",
        "colab_type": "code",
        "colab": {
          "base_uri": "https://localhost:8080/",
          "height": 85
        },
        "outputId": "d75d9f48-4fec-4fc6-a7ff-319bc4f52f6a"
      },
      "source": [
        "webpage.find_all(\"a\",href=True, string=re.compile(\"keithgalli\"))"
      ],
      "execution_count": null,
      "outputs": [
        {
          "output_type": "execute_result",
          "data": {
            "text/plain": [
              "[<a href=\"https://www.instagram.com/keithgalli/\">https://www.instagram.com/keithgalli/</a>,\n",
              " <a href=\"https://twitter.com/keithgalli\">https://twitter.com/keithgalli</a>,\n",
              " <a href=\"https://www.linkedin.com/in/keithgalli/\">https://www.linkedin.com/in/keithgalli/</a>,\n",
              " <a href=\"https://www.tiktok.com/@keithgalli\">https://www.tiktok.com/@keithgalli</a>]"
            ]
          },
          "metadata": {
            "tags": []
          },
          "execution_count": 12
        }
      ]
    },
    {
      "cell_type": "code",
      "metadata": {
        "id": "5PhL4pv5shBs",
        "colab_type": "code",
        "colab": {
          "base_uri": "https://localhost:8080/",
          "height": 139
        },
        "outputId": "e5b08c7b-8234-4541-fe41-ad8e0069955f"
      },
      "source": [
        "\n",
        "links=[ a['href'] for a in webpage.find_all(\"a\",href=True, string=re.compile(\"keithgalli\"))]\n",
        "print(links)\n",
        "print()\n",
        "links_2 = webpage.find_all(\"a\",href=True, string=re.compile(\"keithgalli\"))\n",
        "for i in links_2:\n",
        "    print(i['href'])\n",
        "\n"
      ],
      "execution_count": null,
      "outputs": [
        {
          "output_type": "stream",
          "text": [
            "['https://www.instagram.com/keithgalli/', 'https://twitter.com/keithgalli', 'https://www.linkedin.com/in/keithgalli/', 'https://www.tiktok.com/@keithgalli']\n",
            "\n",
            "https://www.instagram.com/keithgalli/\n",
            "https://twitter.com/keithgalli\n",
            "https://www.linkedin.com/in/keithgalli/\n",
            "https://www.tiktok.com/@keithgalli\n"
          ],
          "name": "stdout"
        }
      ]
    },
    {
      "cell_type": "markdown",
      "metadata": {
        "id": "k1EgeLeRwFxN",
        "colab_type": "text"
      },
      "source": [
        "####Method 3 : using select"
      ]
    },
    {
      "cell_type": "code",
      "metadata": {
        "id": "1290YQEwayy_",
        "colab_type": "code",
        "colab": {
          "base_uri": "https://localhost:8080/",
          "height": 85
        },
        "outputId": "67971a90-df9b-4ba9-8c35-58c3994faca0"
      },
      "source": [
        "links3= [a['href'] for a in webpage.select('a[href*=\"keithgalli\"]')]\n",
        "links3"
      ],
      "execution_count": null,
      "outputs": [
        {
          "output_type": "execute_result",
          "data": {
            "text/plain": [
              "['https://www.instagram.com/keithgalli/',\n",
              " 'https://twitter.com/keithgalli',\n",
              " 'https://www.linkedin.com/in/keithgalli/',\n",
              " 'https://www.tiktok.com/@keithgalli']"
            ]
          },
          "metadata": {
            "tags": []
          },
          "execution_count": 14
        }
      ]
    },
    {
      "cell_type": "markdown",
      "metadata": {
        "id": "j_oa-VCChIrV",
        "colab_type": "text"
      },
      "source": [
        "##Scrape the table"
      ]
    },
    {
      "cell_type": "markdown",
      "metadata": {
        "id": "9_MP3qcRhPby",
        "colab_type": "text"
      },
      "source": [
        "####Display the table\n"
      ]
    },
    {
      "cell_type": "code",
      "metadata": {
        "id": "TB_3o0Xvhg0h",
        "colab_type": "code",
        "colab": {
          "base_uri": "https://localhost:8080/",
          "height": 1000
        },
        "outputId": "d0a9feb4-21a4-4a6b-95ad-327c3703440d"
      },
      "source": [
        "table=webpage.select('table.hockey-stats')[0]\n",
        "print(table.prettify())"
      ],
      "execution_count": null,
      "outputs": [
        {
          "output_type": "stream",
          "text": [
            "<table class=\"hockey-stats\">\n",
            " <thead>\n",
            "  <tr>\n",
            "   <th class=\"season\" data-sort=\"\">\n",
            "    S\n",
            "   </th>\n",
            "   <th class=\"team\" data-sort=\"team\">\n",
            "    Team\n",
            "   </th>\n",
            "   <th class=\"league\" data-sort=\"league\">\n",
            "    League\n",
            "   </th>\n",
            "   <th class=\"regular gp\" data-sort=\"gp\">\n",
            "    GP\n",
            "   </th>\n",
            "   <th class=\"regular g\" data-sort=\"g\">\n",
            "    G\n",
            "   </th>\n",
            "   <th class=\"regular a\" data-sort=\"a\">\n",
            "    A\n",
            "   </th>\n",
            "   <th class=\"regular tp\" data-sort=\"tp\">\n",
            "    TP\n",
            "   </th>\n",
            "   <th class=\"regular pim\" data-sort=\"pim\">\n",
            "    PIM\n",
            "   </th>\n",
            "   <th class=\"regular pm\" data-sort=\"pm\">\n",
            "    +/-\n",
            "   </th>\n",
            "   <th class=\"separator\">\n",
            "   </th>\n",
            "   <th class=\"postseason\">\n",
            "    POST\n",
            "   </th>\n",
            "   <th class=\"postseason gp\" data-sort=\"playoffs-gp\">\n",
            "    GP\n",
            "   </th>\n",
            "   <th class=\"postseason g\" data-sort=\"playoffs-g\">\n",
            "    G\n",
            "   </th>\n",
            "   <th class=\"postseason a\" data-sort=\"playoffs-a\">\n",
            "    A\n",
            "   </th>\n",
            "   <th class=\"postseason tp\" data-sort=\"playoffs-tp\">\n",
            "    TP\n",
            "   </th>\n",
            "   <th class=\"postseason pim\" data-sort=\"playoffs-pim\">\n",
            "    PIM\n",
            "   </th>\n",
            "   <th class=\"postseason pm\" data-sort=\"playoffs-pm\">\n",
            "    +/-\n",
            "   </th>\n",
            "  </tr>\n",
            " </thead>\n",
            " <tbody>\n",
            "  <tr class=\"team-continent-NA \">\n",
            "   <td class=\"season sorted\">\n",
            "    2014-15\n",
            "   </td>\n",
            "   <td class=\"team\">\n",
            "    <i>\n",
            "     <img src=\"images/flag.png\"/>\n",
            "    </i>\n",
            "    <span class=\"txt-blue\">\n",
            "     <a href=\"https://www.eliteprospects.com/team/10263/mit-mass.-inst.-of-tech./2014-2015?tab=stats\">\n",
            "      MIT (Mass. Inst. of Tech.)\n",
            "     </a>\n",
            "    </span>\n",
            "   </td>\n",
            "   <td class=\"league\">\n",
            "    <a href=\"https://www.eliteprospects.com/league/acha-ii/stats/2014-2015\">\n",
            "     ACHA II\n",
            "    </a>\n",
            "   </td>\n",
            "   <td class=\"regular gp\">\n",
            "    17\n",
            "   </td>\n",
            "   <td class=\"regular g\">\n",
            "    3\n",
            "   </td>\n",
            "   <td class=\"regular a\">\n",
            "    9\n",
            "   </td>\n",
            "   <td class=\"regular tp\">\n",
            "    12\n",
            "   </td>\n",
            "   <td class=\"regular pim\">\n",
            "    20\n",
            "   </td>\n",
            "   <td class=\"regular pm\">\n",
            "   </td>\n",
            "   <td class=\"separator\">\n",
            "    |\n",
            "   </td>\n",
            "   <td class=\"postseason\">\n",
            "    <a href=\"https://www.eliteprospects.com/league/acha-ii/stats/2014-2015\">\n",
            "    </a>\n",
            "   </td>\n",
            "   <td class=\"postseason gp\">\n",
            "   </td>\n",
            "   <td class=\"postseason g\">\n",
            "   </td>\n",
            "   <td class=\"postseason a\">\n",
            "   </td>\n",
            "   <td class=\"postseason tp\">\n",
            "   </td>\n",
            "   <td class=\"postseason pim\">\n",
            "   </td>\n",
            "   <td class=\"postseason pm\">\n",
            "   </td>\n",
            "  </tr>\n",
            "  <tr class=\"team-continent-NA \">\n",
            "   <td class=\"season sorted\">\n",
            "    2015-16\n",
            "   </td>\n",
            "   <td class=\"team\">\n",
            "    <i>\n",
            "     <img src=\"images/flag.png\"/>\n",
            "    </i>\n",
            "    <span class=\"txt-blue\">\n",
            "     <a href=\"https://www.eliteprospects.com/team/10263/mit-mass.-inst.-of-tech./2015-2016?tab=stats\">\n",
            "      MIT (Mass. Inst. of Tech.)\n",
            "     </a>\n",
            "    </span>\n",
            "   </td>\n",
            "   <td class=\"league\">\n",
            "    <a href=\"https://www.eliteprospects.com/league/acha-ii/stats/2015-2016\">\n",
            "     ACHA II\n",
            "    </a>\n",
            "   </td>\n",
            "   <td class=\"regular gp\">\n",
            "    9\n",
            "   </td>\n",
            "   <td class=\"regular g\">\n",
            "    1\n",
            "   </td>\n",
            "   <td class=\"regular a\">\n",
            "    1\n",
            "   </td>\n",
            "   <td class=\"regular tp\">\n",
            "    2\n",
            "   </td>\n",
            "   <td class=\"regular pim\">\n",
            "    2\n",
            "   </td>\n",
            "   <td class=\"regular pm\">\n",
            "   </td>\n",
            "   <td class=\"separator\">\n",
            "    |\n",
            "   </td>\n",
            "   <td class=\"postseason\">\n",
            "    <a href=\"https://www.eliteprospects.com/league/acha-ii/stats/2015-2016\">\n",
            "    </a>\n",
            "   </td>\n",
            "   <td class=\"postseason gp\">\n",
            "   </td>\n",
            "   <td class=\"postseason g\">\n",
            "   </td>\n",
            "   <td class=\"postseason a\">\n",
            "   </td>\n",
            "   <td class=\"postseason tp\">\n",
            "   </td>\n",
            "   <td class=\"postseason pim\">\n",
            "   </td>\n",
            "   <td class=\"postseason pm\">\n",
            "   </td>\n",
            "  </tr>\n",
            "  <tr class=\"team-continent-NA \">\n",
            "   <td class=\"season sorted\">\n",
            "    2016-17\n",
            "   </td>\n",
            "   <td class=\"team\">\n",
            "    <i>\n",
            "     <img src=\"images/flag.png\"/>\n",
            "    </i>\n",
            "    <span class=\"txt-blue\">\n",
            "     <a href=\"https://www.eliteprospects.com/team/10263/mit-mass.-inst.-of-tech./2016-2017?tab=stats\">\n",
            "      MIT (Mass. Inst. of Tech.)\n",
            "     </a>\n",
            "    </span>\n",
            "   </td>\n",
            "   <td class=\"league\">\n",
            "    <a href=\"https://www.eliteprospects.com/league/acha-ii/stats/2016-2017\">\n",
            "     ACHA II\n",
            "    </a>\n",
            "   </td>\n",
            "   <td class=\"regular gp\">\n",
            "    12\n",
            "   </td>\n",
            "   <td class=\"regular g\">\n",
            "    5\n",
            "   </td>\n",
            "   <td class=\"regular a\">\n",
            "    5\n",
            "   </td>\n",
            "   <td class=\"regular tp\">\n",
            "    10\n",
            "   </td>\n",
            "   <td class=\"regular pim\">\n",
            "    8\n",
            "   </td>\n",
            "   <td class=\"regular pm\">\n",
            "    0\n",
            "   </td>\n",
            "   <td class=\"separator\">\n",
            "    |\n",
            "   </td>\n",
            "   <td class=\"postseason\">\n",
            "   </td>\n",
            "   <td class=\"postseason gp\">\n",
            "   </td>\n",
            "   <td class=\"postseason g\">\n",
            "   </td>\n",
            "   <td class=\"postseason a\">\n",
            "   </td>\n",
            "   <td class=\"postseason tp\">\n",
            "   </td>\n",
            "   <td class=\"postseason pim\">\n",
            "   </td>\n",
            "   <td class=\"postseason pm\">\n",
            "   </td>\n",
            "  </tr>\n",
            "  <tr class=\"team-continent-EU \">\n",
            "   <td class=\"season sorted\">\n",
            "    2017-18\n",
            "   </td>\n",
            "   <td class=\"team\">\n",
            "    Did not play\n",
            "   </td>\n",
            "   <td class=\"league\">\n",
            "    <a href=\"https://www.eliteprospects.com/stats\">\n",
            "    </a>\n",
            "   </td>\n",
            "   <td class=\"regular gp\">\n",
            "   </td>\n",
            "   <td class=\"regular g\">\n",
            "   </td>\n",
            "   <td class=\"regular a\">\n",
            "   </td>\n",
            "   <td class=\"regular tp\">\n",
            "   </td>\n",
            "   <td class=\"regular pim\">\n",
            "   </td>\n",
            "   <td class=\"regular pm\">\n",
            "   </td>\n",
            "   <td class=\"separator\">\n",
            "    |\n",
            "   </td>\n",
            "   <td class=\"postseason\">\n",
            "    <a href=\"https://www.eliteprospects.com/stats\">\n",
            "    </a>\n",
            "   </td>\n",
            "   <td class=\"postseason gp\">\n",
            "   </td>\n",
            "   <td class=\"postseason g\">\n",
            "   </td>\n",
            "   <td class=\"postseason a\">\n",
            "   </td>\n",
            "   <td class=\"postseason tp\">\n",
            "   </td>\n",
            "   <td class=\"postseason pim\">\n",
            "   </td>\n",
            "   <td class=\"postseason pm\">\n",
            "   </td>\n",
            "  </tr>\n",
            "  <tr class=\"team-continent-NA \">\n",
            "   <td class=\"season sorted\">\n",
            "    2018-19\n",
            "   </td>\n",
            "   <td class=\"team\">\n",
            "    <i>\n",
            "     <img src=\"images/flag.png\"/>\n",
            "    </i>\n",
            "    <span class=\"txt-blue\">\n",
            "     <a href=\"https://www.eliteprospects.com/team/10263/mit-mass.-inst.-of-tech./2018-2019?tab=stats\">\n",
            "      MIT (Mass. Inst. of Tech.)\n",
            "     </a>\n",
            "    </span>\n",
            "   </td>\n",
            "   <td class=\"league\">\n",
            "    <a href=\"https://www.eliteprospects.com/league/acha-iii/stats/2018-2019\">\n",
            "     ACHA III\n",
            "    </a>\n",
            "   </td>\n",
            "   <td class=\"regular gp\">\n",
            "    8\n",
            "   </td>\n",
            "   <td class=\"regular g\">\n",
            "    5\n",
            "   </td>\n",
            "   <td class=\"regular a\">\n",
            "    10\n",
            "   </td>\n",
            "   <td class=\"regular tp\">\n",
            "    15\n",
            "   </td>\n",
            "   <td class=\"regular pim\">\n",
            "    8\n",
            "   </td>\n",
            "   <td class=\"regular pm\">\n",
            "   </td>\n",
            "   <td class=\"separator\">\n",
            "    |\n",
            "   </td>\n",
            "   <td class=\"postseason\">\n",
            "    <a href=\"https://www.eliteprospects.com/league/acha-iii/stats/2018-2019\">\n",
            "    </a>\n",
            "   </td>\n",
            "   <td class=\"postseason gp\">\n",
            "   </td>\n",
            "   <td class=\"postseason g\">\n",
            "   </td>\n",
            "   <td class=\"postseason a\">\n",
            "   </td>\n",
            "   <td class=\"postseason tp\">\n",
            "   </td>\n",
            "   <td class=\"postseason pim\">\n",
            "   </td>\n",
            "   <td class=\"postseason pm\">\n",
            "   </td>\n",
            "  </tr>\n",
            " </tbody>\n",
            "</table>\n",
            "\n"
          ],
          "name": "stdout"
        }
      ]
    },
    {
      "cell_type": "code",
      "metadata": {
        "id": "_LUr3cQ7zcV5",
        "colab_type": "code",
        "colab": {
          "base_uri": "https://localhost:8080/",
          "height": 306
        },
        "outputId": "a0e5a343-8555-44ab-cdea-89a2d53b5ee5"
      },
      "source": [
        "column= table.find('thead').find_all('th')\n",
        "column_names=[c.string for c in column]\n",
        "column_names"
      ],
      "execution_count": null,
      "outputs": [
        {
          "output_type": "execute_result",
          "data": {
            "text/plain": [
              "['S',\n",
              " 'Team',\n",
              " 'League',\n",
              " 'GP',\n",
              " 'G',\n",
              " 'A',\n",
              " 'TP',\n",
              " 'PIM',\n",
              " '+/-',\n",
              " '\\xa0',\n",
              " 'POST',\n",
              " 'GP',\n",
              " 'G',\n",
              " 'A',\n",
              " 'TP',\n",
              " 'PIM',\n",
              " '+/-']"
            ]
          },
          "metadata": {
            "tags": []
          },
          "execution_count": 16
        }
      ]
    },
    {
      "cell_type": "code",
      "metadata": {
        "id": "rjBfeH0Iz3dY",
        "colab_type": "code",
        "colab": {
          "base_uri": "https://localhost:8080/",
          "height": 204
        },
        "outputId": "cadf66a0-4e5d-40ac-eb8d-f921f0ac95b9"
      },
      "source": [
        "import pandas as pd\n",
        "\n",
        "table_rows= table.find('tbody').find_all('tr')\n",
        "table_rows\n",
        "\n",
        "l=[]\n",
        "for tr in table_rows:\n",
        "    td=tr.find_all('td')\n",
        "    row=[str(tr.get_text()).strip() for tr in td]\n",
        "    l.append(row)\n",
        "\n",
        "df=pd.DataFrame(l, columns=column_names)\n",
        "df.head()"
      ],
      "execution_count": null,
      "outputs": [
        {
          "output_type": "execute_result",
          "data": {
            "text/html": [
              "<div>\n",
              "<style scoped>\n",
              "    .dataframe tbody tr th:only-of-type {\n",
              "        vertical-align: middle;\n",
              "    }\n",
              "\n",
              "    .dataframe tbody tr th {\n",
              "        vertical-align: top;\n",
              "    }\n",
              "\n",
              "    .dataframe thead th {\n",
              "        text-align: right;\n",
              "    }\n",
              "</style>\n",
              "<table border=\"1\" class=\"dataframe\">\n",
              "  <thead>\n",
              "    <tr style=\"text-align: right;\">\n",
              "      <th></th>\n",
              "      <th>S</th>\n",
              "      <th>Team</th>\n",
              "      <th>League</th>\n",
              "      <th>GP</th>\n",
              "      <th>G</th>\n",
              "      <th>A</th>\n",
              "      <th>TP</th>\n",
              "      <th>PIM</th>\n",
              "      <th>+/-</th>\n",
              "      <th></th>\n",
              "      <th>POST</th>\n",
              "      <th>GP</th>\n",
              "      <th>G</th>\n",
              "      <th>A</th>\n",
              "      <th>TP</th>\n",
              "      <th>PIM</th>\n",
              "      <th>+/-</th>\n",
              "    </tr>\n",
              "  </thead>\n",
              "  <tbody>\n",
              "    <tr>\n",
              "      <th>0</th>\n",
              "      <td>2014-15</td>\n",
              "      <td>MIT (Mass. Inst. of Tech.)</td>\n",
              "      <td>ACHA II</td>\n",
              "      <td>17</td>\n",
              "      <td>3</td>\n",
              "      <td>9</td>\n",
              "      <td>12</td>\n",
              "      <td>20</td>\n",
              "      <td></td>\n",
              "      <td>|</td>\n",
              "      <td></td>\n",
              "      <td></td>\n",
              "      <td></td>\n",
              "      <td></td>\n",
              "      <td></td>\n",
              "      <td></td>\n",
              "      <td></td>\n",
              "    </tr>\n",
              "    <tr>\n",
              "      <th>1</th>\n",
              "      <td>2015-16</td>\n",
              "      <td>MIT (Mass. Inst. of Tech.)</td>\n",
              "      <td>ACHA II</td>\n",
              "      <td>9</td>\n",
              "      <td>1</td>\n",
              "      <td>1</td>\n",
              "      <td>2</td>\n",
              "      <td>2</td>\n",
              "      <td></td>\n",
              "      <td>|</td>\n",
              "      <td></td>\n",
              "      <td></td>\n",
              "      <td></td>\n",
              "      <td></td>\n",
              "      <td></td>\n",
              "      <td></td>\n",
              "      <td></td>\n",
              "    </tr>\n",
              "    <tr>\n",
              "      <th>2</th>\n",
              "      <td>2016-17</td>\n",
              "      <td>MIT (Mass. Inst. of Tech.)</td>\n",
              "      <td>ACHA II</td>\n",
              "      <td>12</td>\n",
              "      <td>5</td>\n",
              "      <td>5</td>\n",
              "      <td>10</td>\n",
              "      <td>8</td>\n",
              "      <td>0</td>\n",
              "      <td>|</td>\n",
              "      <td></td>\n",
              "      <td></td>\n",
              "      <td></td>\n",
              "      <td></td>\n",
              "      <td></td>\n",
              "      <td></td>\n",
              "      <td></td>\n",
              "    </tr>\n",
              "    <tr>\n",
              "      <th>3</th>\n",
              "      <td>2017-18</td>\n",
              "      <td>Did not play</td>\n",
              "      <td></td>\n",
              "      <td></td>\n",
              "      <td></td>\n",
              "      <td></td>\n",
              "      <td></td>\n",
              "      <td></td>\n",
              "      <td></td>\n",
              "      <td>|</td>\n",
              "      <td></td>\n",
              "      <td></td>\n",
              "      <td></td>\n",
              "      <td></td>\n",
              "      <td></td>\n",
              "      <td></td>\n",
              "      <td></td>\n",
              "    </tr>\n",
              "    <tr>\n",
              "      <th>4</th>\n",
              "      <td>2018-19</td>\n",
              "      <td>MIT (Mass. Inst. of Tech.)</td>\n",
              "      <td>ACHA III</td>\n",
              "      <td>8</td>\n",
              "      <td>5</td>\n",
              "      <td>10</td>\n",
              "      <td>15</td>\n",
              "      <td>8</td>\n",
              "      <td></td>\n",
              "      <td>|</td>\n",
              "      <td></td>\n",
              "      <td></td>\n",
              "      <td></td>\n",
              "      <td></td>\n",
              "      <td></td>\n",
              "      <td></td>\n",
              "      <td></td>\n",
              "    </tr>\n",
              "  </tbody>\n",
              "</table>\n",
              "</div>"
            ],
            "text/plain": [
              "         S                        Team    League  GP  G   A  ... GP G A TP PIM +/-\n",
              "0  2014-15  MIT (Mass. Inst. of Tech.)   ACHA II  17  3   9  ...                  \n",
              "1  2015-16  MIT (Mass. Inst. of Tech.)   ACHA II   9  1   1  ...                  \n",
              "2  2016-17  MIT (Mass. Inst. of Tech.)   ACHA II  12  5   5  ...                  \n",
              "3  2017-18                Did not play                       ...                  \n",
              "4  2018-19  MIT (Mass. Inst. of Tech.)  ACHA III   8  5  10  ...                  \n",
              "\n",
              "[5 rows x 17 columns]"
            ]
          },
          "metadata": {
            "tags": []
          },
          "execution_count": 17
        }
      ]
    },
    {
      "cell_type": "code",
      "metadata": {
        "id": "LHpTwL612gVy",
        "colab_type": "code",
        "colab": {
          "base_uri": "https://localhost:8080/",
          "height": 119
        },
        "outputId": "ea7a7d19-d7ee-45dc-dde3-49192987cd80"
      },
      "source": [
        "df['Team']"
      ],
      "execution_count": null,
      "outputs": [
        {
          "output_type": "execute_result",
          "data": {
            "text/plain": [
              "0    MIT (Mass. Inst. of Tech.)\n",
              "1    MIT (Mass. Inst. of Tech.)\n",
              "2    MIT (Mass. Inst. of Tech.)\n",
              "3                  Did not play\n",
              "4    MIT (Mass. Inst. of Tech.)\n",
              "Name: Team, dtype: object"
            ]
          },
          "metadata": {
            "tags": []
          },
          "execution_count": 18
        }
      ]
    },
    {
      "cell_type": "code",
      "metadata": {
        "id": "JMzXbuGwUQC-",
        "colab_type": "code",
        "colab": {}
      },
      "source": [
        ""
      ],
      "execution_count": null,
      "outputs": []
    },
    {
      "cell_type": "markdown",
      "metadata": {
        "id": "Vnj1Y9tB30PY",
        "colab_type": "text"
      },
      "source": [
        "##Grab all fun facts with the word is"
      ]
    },
    {
      "cell_type": "code",
      "metadata": {
        "id": "MVDFLnpx34Um",
        "colab_type": "code",
        "colab": {
          "base_uri": "https://localhost:8080/",
          "height": 136
        },
        "outputId": "93ebcf48-0e44-4a57-906b-ceec9dfb5cdb"
      },
      "source": [
        "factslist=webpage.select('ul.fun-facts li')\n",
        "factslist"
      ],
      "execution_count": null,
      "outputs": [
        {
          "output_type": "execute_result",
          "data": {
            "text/plain": [
              "[<li>Owned my dream car in high school <a href=\"#footer\"><sup>1</sup></a></li>,\n",
              " <li>Middle name is Ronald</li>,\n",
              " <li>Never had been on a plane until college</li>,\n",
              " <li>Dunkin Donuts coffee is better than Starbucks</li>,\n",
              " <li>A favorite book series of mine is <i>Ender's Game</i></li>,\n",
              " <li>Current video game of choice is <i>Rocket League</i></li>,\n",
              " <li>The band that I've seen the most times live is the <i>Zac Brown Band</i></li>]"
            ]
          },
          "metadata": {
            "tags": []
          },
          "execution_count": 67
        }
      ]
    },
    {
      "cell_type": "code",
      "metadata": {
        "id": "tuCqYhmI7OCx",
        "colab_type": "code",
        "colab": {
          "base_uri": "https://localhost:8080/",
          "height": 102
        },
        "outputId": "03d7d353-5c28-413b-ae51-ac92ceced0c5"
      },
      "source": [
        "funfacts=[]\n",
        "word ='is'\n",
        "\n",
        "for fact in factslist:\n",
        "    # print(fact.get_text())\n",
        "    if word in fact.get_text():\n",
        "        funfacts.append(fact.get_text())\n",
        "funfacts"
      ],
      "execution_count": null,
      "outputs": [
        {
          "output_type": "execute_result",
          "data": {
            "text/plain": [
              "['Middle name is Ronald',\n",
              " 'Dunkin Donuts coffee is better than Starbucks',\n",
              " \"A favorite book series of mine is Ender's Game\",\n",
              " 'Current video game of choice is Rocket League',\n",
              " \"The band that I've seen the most times live is the Zac Brown Band\"]"
            ]
          },
          "metadata": {
            "tags": []
          },
          "execution_count": 76
        }
      ]
    },
    {
      "cell_type": "markdown",
      "metadata": {
        "id": "_lnt5xktBfw_",
        "colab_type": "text"
      },
      "source": [
        "####the same method just more concised "
      ]
    },
    {
      "cell_type": "code",
      "metadata": {
        "id": "oAkDaygg8Gfm",
        "colab_type": "code",
        "colab": {
          "base_uri": "https://localhost:8080/",
          "height": 102
        },
        "outputId": "7b388beb-9221-44c5-adcb-9d458b2d9354"
      },
      "source": [
        "funfacts=[]\n",
        "word ='is'\n",
        "funfacts=[fact.get_text() for fact in factslist if word in fact.get_text()]\n",
        "funfacts"
      ],
      "execution_count": null,
      "outputs": [
        {
          "output_type": "execute_result",
          "data": {
            "text/plain": [
              "['Middle name is Ronald',\n",
              " 'Dunkin Donuts coffee is better than Starbucks',\n",
              " \"A favorite book series of mine is Ender's Game\",\n",
              " 'Current video game of choice is Rocket League',\n",
              " \"The band that I've seen the most times live is the Zac Brown Band\"]"
            ]
          },
          "metadata": {
            "tags": []
          },
          "execution_count": 79
        }
      ]
    },
    {
      "cell_type": "markdown",
      "metadata": {
        "id": "VVabDkb2Bq4d",
        "colab_type": "text"
      },
      "source": [
        "##Download the images from the webpage"
      ]
    },
    {
      "cell_type": "code",
      "metadata": {
        "id": "Afa5szNACRij",
        "colab_type": "code",
        "colab": {
          "base_uri": "https://localhost:8080/",
          "height": 88
        },
        "outputId": "eaa1d2b0-fb86-4c81-8654-3cc5b702090a"
      },
      "source": [
        "import re\n",
        "\n",
        "imagelist=webpage.find_all('img', {'src':re.compile('.jpg')})\n",
        "print(imagelist)\n",
        "print()\n",
        "\n",
        "images=[]\n",
        "for image in imagelist:\n",
        "    images.append(image['src'])\n",
        "print(images)"
      ],
      "execution_count": null,
      "outputs": [
        {
          "output_type": "stream",
          "text": [
            "[<img src=\"./images/selfie1.jpg\" width=\"300px\">./images/selfie1.jpg</img>, <img alt=\"Lake Como\" src=\"images/italy/lake_como.jpg\" style=\"height:100%\">images/italy/lake_como.jpg</img>, <img alt=\"Pontevecchio, Florence\" src=\"images/italy/pontevecchio.jpg\" style=\"height:100%\">images/italy/pontevecchio.jpg</img>, <img alt=\"Riomaggiore, Cinque de Terre\" src=\"images/italy/riomaggiore.jpg\" style=\"height:100%\">images/italy/riomaggiore.jpg</img>]\n",
            "\n",
            "['./images/selfie1.jpg', 'images/italy/lake_como.jpg', 'images/italy/pontevecchio.jpg', 'images/italy/riomaggiore.jpg']\n"
          ],
          "name": "stdout"
        }
      ]
    },
    {
      "cell_type": "markdown",
      "metadata": {
        "id": "IViIYDnQDTgf",
        "colab_type": "text"
      },
      "source": [
        "####display the images"
      ]
    },
    {
      "cell_type": "code",
      "metadata": {
        "id": "_aOvYRWvIJyx",
        "colab_type": "code",
        "colab": {}
      },
      "source": [
        "# selfie_link= url+images[0]\n",
        "\n",
        "# img_data = requests.get(selfie_link).content\n",
        "# with open('keithgalli.jpg', 'wb') as handler: #keith's selfie\n",
        "#     handler.write(img_data)\n",
        "\n",
        "for i in range(len(images)):\n",
        "    image_url= url + images[i]\n",
        "    img_data= requests.get(image_url).content\n",
        "    with open(f'Image{i}.jpg', 'wb') as handler:  #the with statement auto closes the file\n",
        "        handler.write(img_data)\n"
      ],
      "execution_count": null,
      "outputs": []
    },
    {
      "cell_type": "markdown",
      "metadata": {
        "id": "mT3CRx3tWTlp",
        "colab_type": "text"
      },
      "source": [
        "##Mystery Message challenge"
      ]
    },
    {
      "cell_type": "code",
      "metadata": {
        "id": "qKjzf_yjWbE_",
        "colab_type": "code",
        "colab": {
          "base_uri": "https://localhost:8080/",
          "height": 187
        },
        "outputId": "2409c0b8-8f97-44b4-c97b-1134c888be8a"
      },
      "source": [
        "message_list=webpage.select('div.block ul li a')\n",
        "message_list"
      ],
      "execution_count": null,
      "outputs": [
        {
          "output_type": "execute_result",
          "data": {
            "text/plain": [
              "[<a href=\"challenge/file_1.html\">File 1</a>,\n",
              " <a href=\"challenge/file_2.html\">File 2</a>,\n",
              " <a href=\"challenge/file_3.html\">File 3</a>,\n",
              " <a href=\"challenge/file_4.html\">File 4</a>,\n",
              " <a href=\"challenge/file_5.html\">File 5</a>,\n",
              " <a href=\"challenge/file_6.html\">File 6</a>,\n",
              " <a href=\"challenge/file_7.html\">File 7</a>,\n",
              " <a href=\"challenge/file_8.html\">File 8</a>,\n",
              " <a href=\"challenge/file_9.html\">File 9</a>,\n",
              " <a href=\"challenge/file_10.html\">File 10</a>]"
            ]
          },
          "metadata": {
            "tags": []
          },
          "execution_count": 136
        }
      ]
    },
    {
      "cell_type": "code",
      "metadata": {
        "id": "pkyudJZIb3vA",
        "colab_type": "code",
        "colab": {
          "base_uri": "https://localhost:8080/",
          "height": 187
        },
        "outputId": "cc880b09-fb1b-412b-ab33-6ccc4d7b09d7"
      },
      "source": [
        "file_links=[a['href'] for a in message_list]\n",
        "file_links"
      ],
      "execution_count": null,
      "outputs": [
        {
          "output_type": "execute_result",
          "data": {
            "text/plain": [
              "['challenge/file_1.html',\n",
              " 'challenge/file_2.html',\n",
              " 'challenge/file_3.html',\n",
              " 'challenge/file_4.html',\n",
              " 'challenge/file_5.html',\n",
              " 'challenge/file_6.html',\n",
              " 'challenge/file_7.html',\n",
              " 'challenge/file_8.html',\n",
              " 'challenge/file_9.html',\n",
              " 'challenge/file_10.html']"
            ]
          },
          "metadata": {
            "tags": []
          },
          "execution_count": 158
        }
      ]
    },
    {
      "cell_type": "code",
      "metadata": {
        "id": "9Ak7g8McXqk7",
        "colab_type": "code",
        "colab": {
          "base_uri": "https://localhost:8080/",
          "height": 35
        },
        "outputId": "5304d35b-128d-4c1e-d322-ec48a1566e57"
      },
      "source": [
        "file1_url=url+file_links[0]\n",
        "file1_data= bs(requests.get(file1_url).content)     #this codeblock is just for trial\n",
        "\n",
        "word1=file1_data.select(\"p#secret-word\")\n",
        "word1=word1[0].text\n",
        "word1"
      ],
      "execution_count": null,
      "outputs": [
        {
          "output_type": "execute_result",
          "data": {
            "application/vnd.google.colaboratory.intrinsic": {
              "type": "string"
            },
            "text/plain": [
              "'Make'"
            ]
          },
          "metadata": {
            "tags": []
          },
          "execution_count": 159
        }
      ]
    },
    {
      "cell_type": "code",
      "metadata": {
        "id": "7RDTIPI-agnI",
        "colab_type": "code",
        "colab": {
          "base_uri": "https://localhost:8080/",
          "height": 35
        },
        "outputId": "d98deac2-4d85-40b4-8b45-3aec805364af"
      },
      "source": [
        "secretmessage=''\n",
        "wordfile=[]\n",
        "for i in range(len(message_list)):\n",
        "    fileurl=url+file_links[i]\n",
        "    file_data=bs(requests.get(fileurl).content)\n",
        "    word=file_data.select('p#secret-word')\n",
        "    wordfile.append(word)\n",
        "    word=word[0].text\n",
        "    secretmessage+=word+' '\n",
        "\n",
        "secretmessage"
      ],
      "execution_count": null,
      "outputs": [
        {
          "output_type": "execute_result",
          "data": {
            "application/vnd.google.colaboratory.intrinsic": {
              "type": "string"
            },
            "text/plain": [
              "'Make sure to smash that like button and subscribe !!! '"
            ]
          },
          "metadata": {
            "tags": []
          },
          "execution_count": 163
        }
      ]
    }
  ]
}